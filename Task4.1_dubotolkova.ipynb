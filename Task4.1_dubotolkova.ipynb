{
 "cells": [
  {
   "cell_type": "markdown",
   "metadata": {},
   "source": [
    "## 6. Дуботолкова 3530903/70301"
   ]
  },
  {
   "cell_type": "code",
   "execution_count": 1,
   "metadata": {},
   "outputs": [
    {
     "data": {
      "text/plain": [
       "'13000 12\\n'"
      ]
     },
     "execution_count": 1,
     "metadata": {},
     "output_type": "execute_result"
    }
   ],
   "source": [
    "f = open('6.txt')\n",
    "line = f.readline()\n",
    "f.close()\n",
    "line"
   ]
  },
  {
   "cell_type": "code",
   "execution_count": 2,
   "metadata": {},
   "outputs": [
    {
     "name": "stdout",
     "output_type": "stream",
     "text": [
      "13000\n",
      "12\n"
     ]
    }
   ],
   "source": [
    "lst = line.split(\" \")\n",
    "my_weight = int(lst[0])\n",
    "my_volume = int(lst[1])\n",
    "print(my_weight)\n",
    "print(my_volume)"
   ]
  },
  {
   "cell_type": "code",
   "execution_count": 3,
   "metadata": {},
   "outputs": [
    {
     "data": {
      "text/plain": [
       "[(339.0, 0.8, 211.0),\n",
       " (621.0, 0.9, 125.0),\n",
       " (1159.0, 0.6, 237.0),\n",
       " (595.0, 1.0, 292.0),\n",
       " (1356.0, 0.9, 167.0),\n",
       " (612.0, 0.4, 273.0),\n",
       " (107.0, 1.1, 386.0),\n",
       " (1359.0, 0.5, 167.0),\n",
       " (1181.0, 0.5, 266.0),\n",
       " (1262.0, 0.7, 331.0),\n",
       " (1152.0, 1.0, 385.0),\n",
       " (1296.0, 1.0, 196.0),\n",
       " (1149.0, 0.7, 290.0),\n",
       " (1140.0, 1.1, 232.0),\n",
       " (1188.0, 0.5, 137.0),\n",
       " (1014.0, 1.1, 155.0),\n",
       " (538.0, 1.0, 220.0),\n",
       " (831.0, 1.1, 106.0),\n",
       " (1568.0, 0.9, 327.0),\n",
       " (1218.0, 1.0, 295.0),\n",
       " (1306.0, 0.5, 330.0),\n",
       " (441.0, 0.5, 319.0),\n",
       " (1084.0, 1.2, 292.0),\n",
       " (1077.0, 1.0, 331.0),\n",
       " (1436.0, 0.8, 362.0),\n",
       " (384.0, 0.9, 140.0),\n",
       " (1271.0, 0.7, 328.0),\n",
       " (798.0, 0.6, 288.0),\n",
       " (921.0, 1.0, 348.0),\n",
       " (268.0, 1.1, 123.0)]"
      ]
     },
     "execution_count": 3,
     "metadata": {},
     "output_type": "execute_result"
    }
   ],
   "source": [
    "# setup data\n",
    "data = []\n",
    "f = open('6.txt')\n",
    "for line in f.readlines():\n",
    "    t = tuple(float(item) for item in line.split(' '))\n",
    "    data.append(t)\n",
    "del data[0]\n",
    "data"
   ]
  },
  {
   "cell_type": "code",
   "execution_count": 5,
   "metadata": {},
   "outputs": [
    {
     "name": "stdout",
     "output_type": "stream",
     "text": [
      "[339.0, 621.0, 1159.0, 595.0, 1356.0, 612.0, 107.0, 1359.0, 1181.0, 1262.0, 1152.0, 1296.0, 1149.0, 1140.0, 1188.0, 1014.0, 538.0, 831.0, 1568.0, 1218.0, 1306.0, 441.0, 1084.0, 1077.0, 1436.0, 384.0, 1271.0, 798.0, 921.0, 268.0]\n",
      "[0.8, 0.9, 0.6, 1.0, 0.9, 0.4, 1.1, 0.5, 0.5, 0.7, 1.0, 1.0, 0.7, 1.1, 0.5, 1.1, 1.0, 1.1, 0.9, 1.0, 0.5, 0.5, 1.2, 1.0, 0.8, 0.9, 0.7, 0.6, 1.0, 1.1]\n",
      "[211.0, 125.0, 237.0, 292.0, 167.0, 273.0, 386.0, 167.0, 266.0, 331.0, 385.0, 196.0, 290.0, 232.0, 137.0, 155.0, 220.0, 106.0, 327.0, 295.0, 330.0, 319.0, 292.0, 331.0, 362.0, 140.0, 328.0, 288.0, 348.0, 123.0]\n"
     ]
    }
   ],
   "source": [
    "weightList = list(list(zip(*data))[0])\n",
    "volumeList = list(list(zip(*data))[1])\n",
    "priceList = list(list(zip(*data))[2])\n",
    "\n",
    "print(weightList)\n",
    "print(volumeList)\n",
    "print(priceList)"
   ]
  },
  {
   "cell_type": "code",
   "execution_count": 6,
   "metadata": {},
   "outputs": [
    {
     "name": "stdout",
     "output_type": "stream",
     "text": [
      "(4596.0, [1, 0, 0, 1, 0, 1, 1, 0, 1, 0, 1, 0, 1, 0, 0, 0, 1, 0, 0, 1, 1, 1, 0, 1, 1, 0, 0, 1, 1, 0])\n"
     ]
    }
   ],
   "source": [
    "from pyeasyga import pyeasyga\n",
    "\n",
    "ga = pyeasyga.GeneticAlgorithm(data)        # initialise the GA with data\n",
    "ga.population_size = 200                    # increase population size to 200 (default value is 50)\n",
    "\n",
    "# define a fitness function\n",
    "def fitness(individual, data):\n",
    "    weight, volume, price = 0.0, 0.0, 0.0\n",
    "    weight = sum([a*b for a,b in zip(weightList,individual)])\n",
    "    volume = sum([a*b for a,b in zip(volumeList,individual)])\n",
    "    price = sum([a*b for a,b in zip(priceList, individual)])\n",
    "    if weight > my_weight or volume > my_volume:\n",
    "        price = 0\n",
    "    return price\n",
    "\n",
    "ga.fitness_function = fitness               # set the GA's fitness function\n",
    "ga.run()                                    # run the GA"
   ]
  },
  {
   "cell_type": "code",
   "execution_count": 14,
   "metadata": {},
   "outputs": [
    {
     "name": "stdout",
     "output_type": "stream",
     "text": [
      "Полученный набор: [1, 0, 0, 1, 0, 1, 1, 0, 1, 0, 1, 0, 1, 0, 0, 0, 1, 0, 0, 1, 1, 1, 0, 1, 1, 0, 0, 1, 1, 0]\n",
      "Полученный вес: 12870.0\n",
      "Полученный объем: 11.9\n",
      "Полученная цена: 4596.0\n"
     ]
    }
   ],
   "source": [
    "result = ga.best_individual()[1] # the GA's best solution\n",
    "\n",
    "resPrice = ga.best_individual()[0]\n",
    "resWeight = sum([a*b for a,b in zip(weightList, result)])\n",
    "resVolume = sum([a*b for a,b in zip(volumeList, result)])\n",
    "\n",
    "print(f'Полученный набор: {result}')\n",
    "print(f'Полученный вес: {resWeight}')\n",
    "print(f'Полученный объем: {resVolume}')\n",
    "print(f'Полученная цена: {resPrice}')"
   ]
  },
  {
   "cell_type": "markdown",
   "metadata": {},
   "source": [
    "Я получила данный набор значений с помощью значений по умолчанию. Попробую изменить параметры для достижения максимального результата"
   ]
  },
  {
   "cell_type": "code",
   "execution_count": 30,
   "metadata": {},
   "outputs": [
    {
     "name": "stdout",
     "output_type": "stream",
     "text": [
      "Полученный набор: [1, 0, 0, 1, 0, 1, 1, 0, 0, 1, 1, 0, 0, 0, 0, 0, 0, 0, 0, 1, 1, 1, 0, 1, 1, 1, 1, 1, 1, 0]\n",
      "Полученный вес: 12993.0\n",
      "Полученный объем: 11.399999999999999\n",
      "Полученная цена: 4619.0\n",
      "Полученный набор: [1, 0, 0, 1, 0, 1, 1, 0, 1, 1, 1, 0, 0, 0, 0, 0, 1, 0, 0, 1, 1, 1, 0, 1, 1, 0, 0, 1, 1, 0]\n",
      "Полученный вес: 12993.0\n",
      "Полученный объем: 11.399999999999999\n",
      "Полученная цена: 4637.0\n",
      "Полученный набор: [1, 0, 0, 1, 0, 1, 1, 0, 0, 1, 1, 0, 1, 0, 0, 0, 0, 0, 1, 0, 1, 1, 0, 1, 0, 0, 1, 1, 1, 1]\n",
      "Полученный вес: 12993.0\n",
      "Полученный объем: 11.399999999999999\n",
      "Полученная цена: 4562.0\n"
     ]
    }
   ],
   "source": [
    "ga = pyeasyga.GeneticAlgorithm(data, \n",
    "                               population_size=200, #размер популяции\n",
    "                               generations=30, #количество поколений для развития\n",
    "                               crossover_probability=0.8, #вероятность кроссовера\n",
    "                               mutation_probability=1.0,#вероятность мутации\n",
    "                               elitism=True,#элитарный отбор (конструирование новой популяции состоит в том, чтобы позволить лучшему (ым) организму (а) из текущего поколения переходить к следующему без изменений.)\n",
    "                               maximise_fitness=True) #\n",
    "\n",
    "ga.fitness_function = fitness               # set the GA's fitness function\n",
    "ga.run() \n",
    "\n",
    "result2 = ga.best_individual()[1] # the GA's best solution\n",
    "\n",
    "resPrice2 = ga.best_individual()[0]\n",
    "resWeight2 = sum([a*b for a,b in zip(weightList, result)])\n",
    "resVolume2 = sum([a*b for a,b in zip(volumeList, result)])\n",
    "\n",
    "print(f'Полученный набор: {result2}')\n",
    "print(f'Полученный вес: {resWeight2}')\n",
    "print(f'Полученный объем: {resVolume2}')\n",
    "print(f'Полученная цена: {resPrice2}')\n",
    "\n",
    "ga = pyeasyga.GeneticAlgorithm(data, \n",
    "                               population_size=200, #размер популяции\n",
    "                               generations=30, #количество поколений для развития\n",
    "                               crossover_probability=1.0, #вероятность кроссовера\n",
    "                               mutation_probability=1.0,#вероятность мутации\n",
    "                               elitism=True,#элитарный отбор (конструирование новой популяции состоит в том, чтобы позволить лучшему (ым) организму (а) из текущего поколения переходить к следующему без изменений.)\n",
    "                               maximise_fitness=True) #\n",
    "\n",
    "ga.fitness_function = fitness               # set the GA's fitness function\n",
    "ga.run() \n",
    "\n",
    "result3 = ga.best_individual()[1] # the GA's best solution\n",
    "\n",
    "resPrice3 = ga.best_individual()[0]\n",
    "resWeight3 = sum([a*b for a,b in zip(weightList, result)])\n",
    "resVolume3 = sum([a*b for a,b in zip(volumeList, result)])\n",
    "\n",
    "print(f'Полученный набор: {result3}')\n",
    "print(f'Полученный вес: {resWeight3}')\n",
    "print(f'Полученный объем: {resVolume3}')\n",
    "print(f'Полученная цена: {resPrice3}')\n",
    "\n",
    "ga = pyeasyga.GeneticAlgorithm(data, \n",
    "                               population_size=200, #размер популяции\n",
    "                               generations=30, #количество поколений для развития\n",
    "                               crossover_probability=1.0, #вероятность кроссовера\n",
    "                               mutation_probability=0.8,#вероятность мутации\n",
    "                               elitism=True,#элитарный отбор (конструирование новой популяции состоит в том, чтобы позволить лучшему (ым) организму (а) из текущего поколения переходить к следующему без изменений.)\n",
    "                               maximise_fitness=True) #\n",
    "\n",
    "ga.fitness_function = fitness               # set the GA's fitness function\n",
    "ga.run() \n",
    "\n",
    "result4 = ga.best_individual()[1] # the GA's best solution\n",
    "\n",
    "resPrice4 = ga.best_individual()[0]\n",
    "resWeight4 = sum([a*b for a,b in zip(weightList, result)])\n",
    "resVolume4 = sum([a*b for a,b in zip(volumeList, result)])\n",
    "\n",
    "print(f'Полученный набор: {result4}')\n",
    "print(f'Полученный вес: {resWeight4}')\n",
    "print(f'Полученный объем: {resVolume4}')\n",
    "print(f'Полученная цена: {resPrice4}')"
   ]
  },
  {
   "cell_type": "markdown",
   "metadata": {},
   "source": [
    "Проведя несколько вычислений (предыдущую ячейку запускала несколько раз), я поняла, что максимальное значение получается при 100% мутации и при 100% кроссовере. Значит, это и будет ответом."
   ]
  },
  {
   "cell_type": "code",
   "execution_count": 32,
   "metadata": {},
   "outputs": [
    {
     "name": "stdout",
     "output_type": "stream",
     "text": [
      "Полученный набор: [1, 0, 0, 1, 0, 1, 1, 0, 1, 1, 1, 0, 0, 0, 0, 0, 1, 0, 0, 1, 1, 1, 0, 1, 1, 0, 0, 1, 1, 0]\n",
      "Полученный вес: 12993.0\n",
      "Полученный объем: 11.399999999999999\n",
      "Полученная цена: 4637.0\n"
     ]
    }
   ],
   "source": [
    "my_file=open('ga_4_1.txt','w')\n",
    "my_file.write(f'Полученный набор: {result3}' + '\\n'+ \n",
    "              f'Полученный вес: {resWeight3}' + '\\n'+\n",
    "              f'Полученный объем: {resVolume3}'+ '\\n'+\n",
    "              f'Полученная цена: {resPrice3}')\n",
    "my_file.close()"
   ]
  },
  {
   "cell_type": "code",
   "execution_count": null,
   "metadata": {},
   "outputs": [],
   "source": []
  }
 ],
 "metadata": {
  "kernelspec": {
   "display_name": "Python 3",
   "language": "python",
   "name": "python3"
  },
  "language_info": {
   "codemirror_mode": {
    "name": "ipython",
    "version": 3
   },
   "file_extension": ".py",
   "mimetype": "text/x-python",
   "name": "python",
   "nbconvert_exporter": "python",
   "pygments_lexer": "ipython3",
   "version": "3.8.5"
  }
 },
 "nbformat": 4,
 "nbformat_minor": 4
}
